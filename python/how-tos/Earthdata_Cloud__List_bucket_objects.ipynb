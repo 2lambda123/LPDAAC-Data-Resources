{
 "cells": [
  {
   "cell_type": "markdown",
   "id": "8a97e52e-9755-4a58-a9e0-2e13041e178f",
   "metadata": {},
   "source": [
    "# Listing Objects in S3 Using to `boto3`"
   ]
  },
  {
   "cell_type": "code",
   "execution_count": null,
   "id": "cc566d35-cf4c-4b0e-9644-f1096f19a4a3",
   "metadata": {
    "tags": []
   },
   "outputs": [],
   "source": [
    "import boto3\n",
    "import requests\n",
    "from getpass import getpass"
   ]
  },
  {
   "cell_type": "markdown",
   "id": "cc3932a0-df63-421d-8dc6-d9b11d5fc3f2",
   "metadata": {},
   "source": [
    "## Enter Earthdata Login Credentials"
   ]
  },
  {
   "cell_type": "code",
   "execution_count": null,
   "id": "f361b88b-aa80-48af-9025-15ecc0a384e0",
   "metadata": {
    "tags": []
   },
   "outputs": [],
   "source": [
    "user = getpass(prompt='Enter your NASA Earthdata Login Username')\n",
    "password = getpass(prompt='Enter your NASA Earthdata Login Password')"
   ]
  },
  {
   "cell_type": "markdown",
   "id": "8b75dfc7-e237-4b92-ab41-31c03043f553",
   "metadata": {},
   "source": [
    "## Get Earthdata Cloud Temporary Credentials"
   ]
  },
  {
   "cell_type": "code",
   "execution_count": null,
   "id": "9c22f875-0e5c-4cab-9e3c-7be2348cbd64",
   "metadata": {
    "tags": []
   },
   "outputs": [],
   "source": [
    "url = 'https://data.lpdaac.earthdatacloud.nasa.gov/s3credentials'\n",
    "url = requests.get(url, allow_redirects=False).headers['Location']\n",
    "creds = requests.get(url, auth=(user, password)).json()"
   ]
  },
  {
   "cell_type": "markdown",
   "id": "a51d779a-6973-44c4-89d3-ae925d62c1e9",
   "metadata": {
    "tags": []
   },
   "source": [
    "## Create a `boto3` Session"
   ]
  },
  {
   "cell_type": "markdown",
   "id": "2d879aa1-f847-404a-a10f-e664c2e1b0e0",
   "metadata": {},
   "source": [
    "We will use a `session` to store our S3 credentials and other configurations options. Our `session` will be used to create a `boto3` client which act as our interface to AWS services used to, for example, download files or list objects in S3 specified S3 buckets.\n",
    "\n",
    "**NOTE,** it is important to specify the `prefix` and `delimiter` parameter options. The `list_object_v2` methods will fail without those options being specified."
   ]
  },
  {
   "cell_type": "code",
   "execution_count": null,
   "id": "1a7041ae-4421-411b-8ade-56eec739d039",
   "metadata": {
    "tags": []
   },
   "outputs": [],
   "source": [
    "session = boto3.Session(aws_access_key_id=creds['accessKeyId'], \n",
    "                        aws_secret_access_key=creds['secretAccessKey'], \n",
    "                        aws_session_token=creds['sessionToken'], \n",
    "                        region_name='us-west-2')\n",
    "client = session.client('s3')\n",
    "bucket = 'lp-prod-protected'\n",
    "prefix = ''\n",
    "delimiter = '/'"
   ]
  },
  {
   "cell_type": "markdown",
   "id": "e42a93fc-f582-45dc-9745-528c259e01c2",
   "metadata": {},
   "source": [
    "Now we can list all of the collections within the `lp-prod-protected` bucket."
   ]
  },
  {
   "cell_type": "code",
   "execution_count": null,
   "id": "6abc5d2e-64d0-4541-b4cb-2af1bcda62d4",
   "metadata": {
    "tags": []
   },
   "outputs": [],
   "source": [
    "bucket_list=client.list_objects_v2(Bucket=bucket, Prefix=prefix, Delimiter=delimiter)\n",
    "bucket_list"
   ]
  },
  {
   "cell_type": "markdown",
   "id": "20660e4a-d6a1-4ebb-8b3e-0ae816c07998",
   "metadata": {},
   "source": [
    "`bucket_list` is a dictionary where all available collections can be found with the `CommonPrefixes` key."
   ]
  },
  {
   "cell_type": "code",
   "execution_count": null,
   "id": "09009809-3756-4566-a5cf-0741142cc264",
   "metadata": {
    "tags": []
   },
   "outputs": [],
   "source": [
    "bucket_list.keys()"
   ]
  },
  {
   "cell_type": "markdown",
   "id": "441ad6ef-b241-42fb-b62f-1465e2d10cad",
   "metadata": {},
   "source": [
    "We can use the `CommonPrefixes` key to pull all of the collections into a list."
   ]
  },
  {
   "cell_type": "code",
   "execution_count": null,
   "id": "1f9140d0-4dc2-4451-ae8d-37a879b35e5e",
   "metadata": {
    "tags": []
   },
   "outputs": [],
   "source": [
    "# Check for common prefixes (directories) found\n",
    "if 'CommonPrefixes' not in bucket_list:\n",
    "    print ('No directories found')\n",
    "else:\n",
    "    dir_list=[]\n",
    "    for dir_name in bucket_list['CommonPrefixes']:\n",
    "        dir_list.append('%s ' % (dir_name['Prefix']))\n",
    "        print(dir_name['Prefix'])    \n",
    "\n",
    "print('Dir count = ',len(dir_list))"
   ]
  },
  {
   "cell_type": "markdown",
   "id": "4fc9ff7a-5873-47f4-a516-9e7b4c241547",
   "metadata": {},
   "source": [
    "To see what is contained within each collection, we'll update the `Prefix` option to include the a collection name. "
   ]
  },
  {
   "cell_type": "code",
   "execution_count": null,
   "id": "b0a3ff46-47c5-4ec0-bc8e-8869a36b129b",
   "metadata": {
    "tags": []
   },
   "outputs": [],
   "source": [
    "prefix = \"ECO_L2_LSTE.002/\""
   ]
  },
  {
   "cell_type": "code",
   "execution_count": null,
   "id": "b61e51f5-cf5c-4134-a4d6-be5b8bbd38c4",
   "metadata": {
    "tags": []
   },
   "outputs": [],
   "source": [
    "col_prefix =client.list_objects_v2(Bucket=bucket, Prefix=prefix, Delimiter=delimiter)\n",
    "#col_prefix"
   ]
  },
  {
   "cell_type": "code",
   "execution_count": null,
   "id": "4cd04348-14d1-4ebd-bae3-e38587fe88c7",
   "metadata": {
    "tags": []
   },
   "outputs": [],
   "source": [
    "dir_list=[]\n",
    "for dir_name in col_prefix['CommonPrefixes']:\n",
    "            dir_list.append(f\"{dir_name['Prefix']}\")"
   ]
  },
  {
   "cell_type": "markdown",
   "id": "8df92c43-6978-4938-b292-34001f5790a2",
   "metadata": {
    "tags": []
   },
   "source": [
    "You'll notice that the list of Prefixes (or granules) is quite long. The `list_objects_v2` method will return only 1000 objects by default. Often collections include well over 1000 granules. We can set up some code the 'page' through the entire collection and add the granules to `dir_list`."
   ]
  },
  {
   "cell_type": "code",
   "execution_count": null,
   "id": "f3ef96e2-b01f-4e02-b5af-c5266a37d6d0",
   "metadata": {
    "tags": []
   },
   "outputs": [],
   "source": [
    "# If the list is longer than the returned list (>1000) ask about pagination\n",
    "if col_prefix['IsTruncated'] :\n",
    "    cont = input('Continue (Y/n):')\n",
    "\n",
    "# Paginate\n",
    "#while col_prefix['IsTruncated'] and ( cont == 'Y' or cont == 'y' or cont == ''):\n",
    "while 'NextContinuationToken' in col_prefix:\n",
    "    continuation = col_prefix['NextContinuationToken']\n",
    "    col_prefix = client.list_objects_v2(Bucket=bucket, Prefix=prefix, Delimiter=delimiter, ContinuationToken=continuation)\n",
    "\n",
    "    # List Directories\n",
    "    if 'CommonPrefixes' not in col_prefix:\n",
    "        print ('No directories found')\n",
    "    else:\n",
    "        for dir_name in col_prefix['CommonPrefixes']:\n",
    "            dir_list.append(f\"{dir_name['Prefix']}\")\n",
    "            #print(dir_name['Prefix'])        \n",
    "            #print('Dir count = ',len(dir_list))\n",
    "\n",
    "    #cont = input('Continue (Y/n):')"
   ]
  },
  {
   "cell_type": "markdown",
   "id": "29bb09d8-b1d0-4ecb-bbf9-ec212d7a4110",
   "metadata": {},
   "source": [
    "We now have a list of Prefixes (granule paths) that we can use to find files"
   ]
  },
  {
   "cell_type": "code",
   "execution_count": null,
   "id": "aec4a951-288c-4eb7-9ed0-f39407ba66e4",
   "metadata": {
    "tags": []
   },
   "outputs": [],
   "source": [
    "len(dir_list)"
   ]
  },
  {
   "cell_type": "code",
   "execution_count": null,
   "id": "78229f64-53fa-4b28-98ee-1e6eebd73a8f",
   "metadata": {
    "tags": []
   },
   "outputs": [],
   "source": [
    "dir_list[:10]    # Print the first 10"
   ]
  },
  {
   "cell_type": "markdown",
   "id": "c16c8802-6a84-43aa-9877-0d09aaaf8279",
   "metadata": {},
   "source": [
    "We can find the files by updating the `prefix` again. This time we'll use the path from our `dir_list` to list the files associated with the first item in our list."
   ]
  },
  {
   "cell_type": "code",
   "execution_count": null,
   "id": "5082e6d4-4f16-46ce-85a5-175552c9505d",
   "metadata": {
    "tags": []
   },
   "outputs": [],
   "source": [
    "prefix = dir_list[0]"
   ]
  },
  {
   "cell_type": "code",
   "execution_count": null,
   "id": "9119ffb3-8299-4096-a72d-80762db8a191",
   "metadata": {
    "tags": []
   },
   "outputs": [],
   "source": [
    "files = client.list_objects_v2(Bucket=bucket, Prefix=prefix, Delimiter=delimiter)"
   ]
  },
  {
   "cell_type": "code",
   "execution_count": null,
   "id": "b6d128f0-6792-458c-bd8b-c465cd4ba83f",
   "metadata": {
    "tags": []
   },
   "outputs": [],
   "source": [
    "files"
   ]
  },
  {
   "cell_type": "markdown",
   "id": "8755949a-3abb-44d9-8fc0-b22dd551b64c",
   "metadata": {},
   "source": [
    "There are many files associated with this granule. Now we can get the `key` to a data asset in S3."
   ]
  },
  {
   "cell_type": "code",
   "execution_count": null,
   "id": "51e7c074-492b-4188-8e24-f1678cb7e656",
   "metadata": {
    "tags": []
   },
   "outputs": [],
   "source": [
    "[f['Key'] for f in files['Contents'] if f['Key'].endswith('.h5')]"
   ]
  }
 ],
 "metadata": {
  "kernelspec": {
   "display_name": "py39",
   "language": "python",
   "name": "py39"
  },
  "language_info": {
   "codemirror_mode": {
    "name": "ipython",
    "version": 3
   },
   "file_extension": ".py",
   "mimetype": "text/x-python",
   "name": "python",
   "nbconvert_exporter": "python",
   "pygments_lexer": "ipython3",
   "version": "3.9.16"
  }
 },
 "nbformat": 4,
 "nbformat_minor": 5
}
