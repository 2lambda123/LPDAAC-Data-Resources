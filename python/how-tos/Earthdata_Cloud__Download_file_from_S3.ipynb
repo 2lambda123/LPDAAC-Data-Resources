{
 "cells": [
  {
   "cell_type": "code",
   "execution_count": null,
   "id": "cc566d35-cf4c-4b0e-9644-f1096f19a4a3",
   "metadata": {
    "tags": []
   },
   "outputs": [],
   "source": [
    "import boto3\n",
    "import requests\n",
    "from getpass import getpass"
   ]
  },
  {
   "cell_type": "markdown",
   "id": "e8b7ee23-e894-466e-8d86-8bb6bed6f2b0",
   "metadata": {},
   "source": [
    "## Enter Earthdata Login Credentials"
   ]
  },
  {
   "cell_type": "code",
   "execution_count": null,
   "id": "f361b88b-aa80-48af-9025-15ecc0a384e0",
   "metadata": {
    "tags": []
   },
   "outputs": [],
   "source": [
    "user = getpass(prompt='Enter your NASA Earthdata Login Username')\n",
    "password = getpass(prompt='Enter your NASA Earthdata Login Password')"
   ]
  },
  {
   "cell_type": "markdown",
   "id": "f08cd74d-b8e3-49eb-96c2-4f04415919dd",
   "metadata": {},
   "source": [
    "## Get Earthdata Cloud Temporary Credentials"
   ]
  },
  {
   "cell_type": "code",
   "execution_count": null,
   "id": "db25e383-1660-4719-9851-3f35e3ab6cdc",
   "metadata": {
    "tags": []
   },
   "outputs": [],
   "source": [
    "url = 'https://data.lpdaac.earthdatacloud.nasa.gov/s3credentials'\n",
    "url = requests.get(url, allow_redirects=False).headers['Location']\n",
    "creds = requests.get(url, auth=(user, password)).json()"
   ]
  },
  {
   "cell_type": "markdown",
   "id": "1ee4e401-71d3-47d5-9d4b-eb520a9ce2dc",
   "metadata": {},
   "source": [
    "## Create a `boto3` Session"
   ]
  },
  {
   "cell_type": "markdown",
   "id": "82fe9dd2-c073-4cda-b82f-76fcef24a69d",
   "metadata": {},
   "source": [
    "We will use a `session` to store our S3 credentials and other configurations options. Our `session` will be used to create a `boto3` client which act as our interface to AWS services used to, for example, download files or list objects in S3 specified S3 buckets.\n",
    "\n",
    "**NOTE,** it is important to specify the `prefix` and `delimiter` parameter options. The `download_file` method works without the options set, but other methods will fail without those options being specified."
   ]
  },
  {
   "cell_type": "code",
   "execution_count": null,
   "id": "257e852c-cb2d-40ae-8145-0ffa90778090",
   "metadata": {},
   "outputs": [],
   "source": [
    "session = boto3.Session(aws_access_key_id=creds['accessKeyId'], \n",
    "                        aws_secret_access_key=creds['secretAccessKey'], \n",
    "                        aws_session_token=creds['sessionToken'], \n",
    "                        region_name='us-west-2')\n",
    "client = session.client('s3')\n",
    "bucket = 'lp-prod-protected'\n",
    "prefix = ''\n",
    "delimiter = '/'"
   ]
  },
  {
   "cell_type": "markdown",
   "id": "28cf231f-5adf-42b0-b10e-3d1c202fdea0",
   "metadata": {
    "tags": []
   },
   "source": [
    "## Download File from S3"
   ]
  },
  {
   "cell_type": "markdown",
   "id": "efbe4eb0-186e-4bd0-92cd-b842478eab43",
   "metadata": {},
   "source": [
    "Specify the path to the object we want to download."
   ]
  },
  {
   "cell_type": "code",
   "execution_count": null,
   "id": "400f08d4-4536-493a-bbb6-32dd7b548001",
   "metadata": {},
   "outputs": [],
   "source": [
    "key = \"HLSS30.020/HLS.S30.T56QPM.2023001T002959.v2.0/HLS.S30.T56QPM.2023001T002959.v2.0.B03.tif\""
   ]
  },
  {
   "cell_type": "markdown",
   "id": "42bdc6e3-6ee5-4684-ac95-472217f7a7db",
   "metadata": {},
   "source": [
    "Specify the name of the output file."
   ]
  },
  {
   "cell_type": "code",
   "execution_count": null,
   "id": "2633a126-4e27-4d99-b9f6-da110d4f50e0",
   "metadata": {},
   "outputs": [],
   "source": [
    "filename = 'temp_download_example.tif'"
   ]
  },
  {
   "cell_type": "markdown",
   "id": "aeca2cab-057a-4ce4-83cc-20989744b8d4",
   "metadata": {},
   "source": [
    "Download our file to the current working directory."
   ]
  },
  {
   "cell_type": "code",
   "execution_count": null,
   "id": "b0e655e7-459a-41d7-9d7f-d136e6c2722f",
   "metadata": {
    "tags": []
   },
   "outputs": [],
   "source": [
    "client.download_file(Bucket=bucket, Key=key, Filename=filename)"
   ]
  }
 ],
 "metadata": {
  "kernelspec": {
   "display_name": "py39",
   "language": "python",
   "name": "py39"
  },
  "language_info": {
   "codemirror_mode": {
    "name": "ipython",
    "version": 3
   },
   "file_extension": ".py",
   "mimetype": "text/x-python",
   "name": "python",
   "nbconvert_exporter": "python",
   "pygments_lexer": "ipython3",
   "version": "3.9.16"
  }
 },
 "nbformat": 4,
 "nbformat_minor": 5
}
